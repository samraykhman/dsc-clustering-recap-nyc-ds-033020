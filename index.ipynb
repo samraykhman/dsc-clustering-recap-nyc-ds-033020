{
 "cells": [
  {
   "cell_type": "markdown",
   "metadata": {},
   "source": [
    "# Clustering - Recap\n",
    "\n",
    "\n",
    "## Key Takeaways\n",
    "\n",
    "The key takeaways from this section include:\n",
    "* There are two main types of clustering algorithms: non-hierarchical clustering (k-means) and hierarchical agglomerative clustering\n",
    "* You can quantify the performance of a clustering algorithm using metrics such as variance ratios\n",
    "* When working with the k-means clustering algorithm, it is useful to create elbow plots to find an optimal value for $k$\n",
    "* When using hierarchical agglomerative clustering, different linkage criteria can be used to determine which clusters should be merged and at what point\n",
    "* Dendrograms and clustergrams are very useful visual tools in hierarchical agglomerative clustering \n",
    "* Advantages of k-means clustering include easy implementation and speed, whereas the main disadvantage is that it isn't always straightforward how to pick the \"right\" value for $k$ \n",
    "* Advantages of hierarchical agglomerative clustering include easy visualization and intuitiveness, whereas the main disadvantage is that the result is very distance-metric-dependent\n",
    "* You can use supervised and unsupervised learning together in a few different ways. Applications of this are look-alike models in market segmentation and semi-supervised learning\n"
   ]
  }
 ],
 "metadata": {
  "kernelspec": {
   "display_name": "Python 3",
   "language": "python",
   "name": "python3"
  },
  "language_info": {
   "codemirror_mode": {
    "name": "ipython",
    "version": 3
   },
   "file_extension": ".py",
   "mimetype": "text/x-python",
   "name": "python",
   "nbconvert_exporter": "python",
   "pygments_lexer": "ipython3",
   "version": "3.6.9"
  }
 },
 "nbformat": 4,
 "nbformat_minor": 2
}
